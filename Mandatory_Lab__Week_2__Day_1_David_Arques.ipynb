{
  "nbformat": 4,
  "nbformat_minor": 0,
  "metadata": {
    "colab": {
      "provenance": []
    },
    "kernelspec": {
      "name": "python3",
      "display_name": "Python 3"
    },
    "language_info": {
      "name": "python"
    }
  },
  "cells": [
    {
      "cell_type": "code",
      "source": [
        "# Producst list\n",
        "products = [\"t-shirt\", \"mug\", \"hat\", \"book\", \"keychain\"]"
      ],
      "metadata": {
        "id": "WnvOqJMwvTAN"
      },
      "execution_count": 5,
      "outputs": []
    },
    {
      "cell_type": "code",
      "source": [
        "#1 + 2 Function for \"initialize_inventory\" and store it in a dictionary and create a \"customer_order\"\n",
        "\n",
        "def initialize_inventory():\n",
        "  print(\"How many products do you want?\")\n",
        "  product1 = int(input(\"t-shirts: \"))\n",
        "  product2 = int(input(\"mug: \"))\n",
        "  product3 = int(input(\"hat: \"))\n",
        "  product4 = int(input(\"book: \"))\n",
        "  product5 = int(input(\"keychain: \"))\n",
        "\n",
        "  customer_order = {'t-shirt': product1, 'mug': product2, 'hat': product3, 'book': product4, 'keychain': product5 }\n",
        "  return customer_order"
      ],
      "metadata": {
        "id": "PrU5hkpsu1kB"
      },
      "execution_count": 9,
      "outputs": []
    },
    {
      "cell_type": "code",
      "source": [
        "# Result task 1 + 2\n",
        "initialize_inventory()"
      ],
      "metadata": {
        "colab": {
          "base_uri": "https://localhost:8080/"
        },
        "id": "LlIwo9zAxMZP",
        "outputId": "29282614-246c-4703-fcd3-e76fbbb46db0"
      },
      "execution_count": 11,
      "outputs": [
        {
          "name": "stdout",
          "output_type": "stream",
          "text": [
            "How many products do you want?\n",
            "t-shirts: 6\n",
            "mug: 3\n",
            "hat: 5\n",
            "book: 2\n",
            "keychain: 4\n"
          ]
        },
        {
          "output_type": "execute_result",
          "data": {
            "text/plain": [
              "{'t-shirt': 6, 'mug': 3, 'hat': 5, 'book': 2, 'keychain': 4}"
            ]
          },
          "metadata": {},
          "execution_count": 11
        }
      ]
    },
    {
      "cell_type": "code",
      "source": [
        "#3 Function to update the inventory dictionary based on the customer orders\n",
        "\n",
        "def update_inventory():\n",
        "  first_response = input(\"Do you want to update your last order? yes or no \")\n",
        "  if first_response == 'yes':\n",
        "    inventory = initialize_inventory()\n",
        "    return inventory\n",
        "\n",
        "  else:\n",
        "    print(\"Your last order hasn't been cahnged\")"
      ],
      "metadata": {
        "id": "OGGbNQcExvOE"
      },
      "execution_count": 33,
      "outputs": []
    },
    {
      "cell_type": "code",
      "source": [
        "update_inventory()"
      ],
      "metadata": {
        "colab": {
          "base_uri": "https://localhost:8080/"
        },
        "id": "e8c_Rtnf0fcN",
        "outputId": "3b768671-dbce-42a2-b42b-da3aab8e6a36"
      },
      "execution_count": 36,
      "outputs": [
        {
          "name": "stdout",
          "output_type": "stream",
          "text": [
            "Do you want to update your last order? yes or no yes\n",
            "How many products do you want?\n",
            "t-shirts: 3\n",
            "mug: 5\n",
            "hat: 34\n",
            "book: 5\n",
            "keychain: 36\n"
          ]
        },
        {
          "output_type": "execute_result",
          "data": {
            "text/plain": [
              "{'t-shirt': 3, 'mug': 5, 'hat': 34, 'book': 5, 'keychain': 36}"
            ]
          },
          "metadata": {},
          "execution_count": 36
        }
      ]
    },
    {
      "cell_type": "code",
      "source": [
        "#4 Function to calculate order statistcis: (total products ordered, and % of unique products ordered)\n",
        "\n",
        "\n",
        "def calculate_order_statistics(order, products):\n",
        "  total_products_ordered = sum(order.values())\n",
        "  unique_products_ordered = len(order.keys())\n",
        "\n",
        "  total_unique_products = len(products)\n",
        "  percentage_unique_products_ordered = (unique_products_ordered / total_unique_products) * 100\n",
        "\n",
        "  return print(f\"Your total porducts ordered is: {total_products_ordered} and the % of unique porducts is {percentage_unique_products_ordered}%\")"
      ],
      "metadata": {
        "id": "lc9FBEoLMVXm"
      },
      "execution_count": 43,
      "outputs": []
    },
    {
      "cell_type": "code",
      "source": [
        "#5 testing step 4 with priniting message:\n",
        "\n",
        "david_order = {'t-shirt': 5, 'mug': 3, 'hat': 4, 'book': 8, 'keychain': 6}\n",
        "products = [\"t-shirt\", \"mug\", \"hat\", \"book\", \"keychain\"]\n",
        "\n",
        "calculate_order_statistics(david_order, products)"
      ],
      "metadata": {
        "colab": {
          "base_uri": "https://localhost:8080/"
        },
        "id": "FM-jAbpeQj7o",
        "outputId": "8f988e1a-efaa-43e5-d822-a617b209eda7"
      },
      "execution_count": 44,
      "outputs": [
        {
          "output_type": "stream",
          "name": "stdout",
          "text": [
            "Your total porducts ordered is: 26 and the % of unique porducts is 100.0%\n"
          ]
        }
      ]
    },
    {
      "cell_type": "code",
      "source": [],
      "metadata": {
        "id": "fZYLtOaQSS_U"
      },
      "execution_count": null,
      "outputs": []
    }
  ]
}